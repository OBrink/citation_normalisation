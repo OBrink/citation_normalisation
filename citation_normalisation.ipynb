{
 "cells": [
  {
   "cell_type": "code",
   "execution_count": 177,
   "metadata": {},
   "outputs": [
    {
     "data": {
      "text/plain": [
       "<module 'citation_normalisation' from 'C:\\\\Users\\\\Otto Brinkhaus\\\\Documents\\\\Arbeit\\\\COCONUT\\\\citation_normalisation\\\\citation_normalisation.py'>"
      ]
     },
     "execution_count": 177,
     "metadata": {},
     "output_type": "execute_result"
    }
   ],
   "source": [
    "import time\n",
    "import pandas as pd\n",
    "import citation_normalisation as cn\n",
    "import importlib\n",
    "importlib.reload(cn)"
   ]
  },
  {
   "cell_type": "code",
   "execution_count": 209,
   "metadata": {},
   "outputs": [],
   "source": [
    "# COCONUT examples\n",
    "test_list = [\n",
    "    '10.7164/antibiotics.33.463',\n",
    "    'Kluepfel,J. Antibiotics 25,(1972),109',\n",
    "    'Ratnayake,J.Nat.Prod.,71,(2008),403',\n",
    "    'Probst,Helvetica Chimica Acta,64,(1981),2056',\n",
    "    'Braz Filho,Phytochem.,19,(1980),2003'\n",
    "]\n",
    "references = []\n",
    "for test_ID in test_list:\n",
    "    reference = cn.get_structured_reference(test_ID)\n",
    "    references.append(reference)\n",
    "    "
   ]
  },
  {
   "cell_type": "code",
   "execution_count": 217,
   "metadata": {},
   "outputs": [
    {
     "name": "stdout",
     "output_type": "stream",
     "text": [
      "title - MYRIOCIN, A NEW ANTIFUNGAL ANTIBIOTIC FROM MYRIOCOCCUM ALBOMYCES\n",
      "DOI - 10.7164/antibiotics.25.109\n",
      "issue - 2\n",
      "volume - 25\n",
      "year - 1972\n",
      "journal - The Journal of Antibiotics\n",
      "authors - ['Kluepfel, D.', 'Bagli, J.', 'Baker, H.', 'Charest, M.', 'Kudelski, A.', 'Sehgal, S., N.', 'Vézina, C.']\n"
     ]
    }
   ],
   "source": [
    "# Print exemplary dict\n",
    "for key in references[0].keys():\n",
    "    print(key + ' - ' + str(references[1][key]))"
   ]
  },
  {
   "cell_type": "code",
   "execution_count": 211,
   "metadata": {},
   "outputs": [
    {
     "name": "stdout",
     "output_type": "stream",
     "text": [
      "Anke, T., Kupka, J., Schramm, G., Steglich, W., The Journal of Antibiotics, 1980, 33 - DOI: 10.7164/antibiotics.33.463\n",
      "Kluepfel, D., Bagli, J., Baker, H., Charest, M., Kudelski, A., Sehgal, S., N., Vézina, C., The Journal of Antibiotics, 1972, 25 - DOI: 10.7164/antibiotics.25.109\n",
      "Ratnayake, R., Fremlin, L., J., Lacey, E., Gill, J., H., Capon, R., J., Journal of Natural Products, 2008, 71 - DOI: 10.1021/np070589g\n",
      "Probst, A., Tamm, C., Helvetica Chimica Acta, 1981, 64 - DOI: 10.1002/hlca.19810640710\n",
      "Filho, R., B., De Moraes, M., P., Gottlieb, O., R., Phytochemistry, 1980, 19 - DOI: 10.1016/0031-9422(80)83022-6\n"
     ]
    }
   ],
   "source": [
    "for reference_dict in references:\n",
    "    reference_str = cn.create_normalized_reference_str(reference_dict)\n",
    "    print(reference_str)"
   ]
  },
  {
   "cell_type": "code",
   "execution_count": 193,
   "metadata": {},
   "outputs": [
    {
     "name": "stdout",
     "output_type": "stream",
     "text": [
      "70970\n"
     ]
    }
   ],
   "source": [
    "# Read data from file\n",
    "coconut_references = pd.read_csv('./coconut_references.csv')\n",
    "unstructured_references = coconut_references['citationDOI']\n",
    "COCONUT_IDs = coconut_references['coconut_id']\n",
    "\n",
    "ID_ref_tuples = zip(COCONUT_IDs, unstructured_references)\n",
    "\n",
    "# Get everything into the right format and filter empty reference lists\n",
    "ID_ref_tuples = [(tup[0], eval(tup[1])) # the references are read as str and need to be converted to lists\n",
    "                for tup in ID_ref_tuples\n",
    "                if len(eval(tup[1])) != 0] # Don't include empty reference lists\n",
    "print(len(ID_ref_tuples))\n"
   ]
  },
  {
   "cell_type": "code",
   "execution_count": null,
   "metadata": {},
   "outputs": [],
   "source": []
  },
  {
   "cell_type": "code",
   "execution_count": 196,
   "metadata": {},
   "outputs": [
    {
     "name": "stdout",
     "output_type": "stream",
     "text": [
      "NA\n",
      "10.1021/np070357h\n",
      "NA\n",
      "10.7164/antibiotics.51.929\n",
      "Ratnayake,J.Nat.Prod.,71,(2008),403\n",
      "Cole,Handbook of Secondary Fungal Metabolites,Volume I,(2003)\n",
      "Probst,Helvetica Chimica Acta,64,(1981),2056\n",
      "10.1016/0031-9422(80)83022-6\n",
      "Harborne, The Handbook of Natural Flavonoids, 2, (1999), 517,Isoflavonoids and neoflavonoids\n"
     ]
    },
    {
     "name": "stderr",
     "output_type": "stream",
     "text": [
      "\u001b[32m2021-05-28 15:23:47\u001b[0m \u001b[35mDESKTOP-LKA1KPD\u001b[0m \u001b[34mscholarly[3696]\u001b[0m \u001b[1;30mINFO\u001b[0m Getting https://scholar.google.com/scholar?hl=en&q=Harborne%2C%20The%20Handbook%20of%20Natural%20Flavonoids%2C%202%2C%20%281999%29%2C%20517%2CIsoflavonoids%20and%20neoflavonoids&as_vis=0&as_sdt=0,33\n",
      "\u001b[32m2021-05-28 15:23:49\u001b[0m \u001b[35mDESKTOP-LKA1KPD\u001b[0m \u001b[34mscholarly[3696]\u001b[0m \u001b[1;30mINFO\u001b[0m Session proxy config is {}\n",
      "\u001b[32m2021-05-28 15:23:49\u001b[0m \u001b[35mDESKTOP-LKA1KPD\u001b[0m \u001b[34mscholarly[3696]\u001b[0m \u001b[1;30mINFO\u001b[0m Getting https://scholar.google.com/scholar?q=info:rER3DjBidn0J:scholar.google.com/&output=cite&scirp=0&hl=en\n",
      "\u001b[32m2021-05-28 15:23:51\u001b[0m \u001b[35mDESKTOP-LKA1KPD\u001b[0m \u001b[34mscholarly[3696]\u001b[0m \u001b[1;30mINFO\u001b[0m Session proxy config is {}\n",
      "\u001b[32m2021-05-28 15:23:51\u001b[0m \u001b[35mDESKTOP-LKA1KPD\u001b[0m \u001b[34mscholarly[3696]\u001b[0m \u001b[1;30mINFO\u001b[0m Getting https://scholar.googleusercontent.com/scholar.bib?q=info:rER3DjBidn0J:scholar.google.com/&output=citation&scisdr=CgXf-DFVEMbfojX3Jxo:AAGBfm0AAAAAYLDxPxoKzyuQt9CPTSw6z22kjhj9nqFZ&scisig=AAGBfm0AAAAAYLDxP0id8Y5NISknaikKdAzuRo-yopMS&scisf=4&ct=citation&cd=-1&hl=en\n",
      "\u001b[32m2021-05-28 15:23:52\u001b[0m \u001b[35mDESKTOP-LKA1KPD\u001b[0m \u001b[34mscholarly[3696]\u001b[0m \u001b[1;30mINFO\u001b[0m Session proxy config is {}\n"
     ]
    },
    {
     "name": "stdout",
     "output_type": "stream",
     "text": [
      "Braz Filho,Phytochem.,19,(1980),2003\n",
      "Harborne, The Handbook of Natural Flavonoids, 1, (1999), 181.Flavonols\n",
      "Anjaneyulu,Indian J.Chem.Sect.B,20,(1981),87\n"
     ]
    }
   ],
   "source": [
    "structured_references = []\n",
    "# Retrieve data and add list of dicts to structured_references\n",
    "for tup in ID_ref_tuples[:5]:\n",
    "    structured_ref_dicts = []\n",
    "    for unstructured_ref in tup[1]:\n",
    "        print(unstructured_ref)\n",
    "        if unstructured_ref != 'NA':\n",
    "            ref_dict = cn.get_structured_reference(unstructured_ref)\n",
    "            structured_ref_dicts.append(ref_dict)\n",
    "    structured_references.append(structured_ref_dicts)\n",
    "            \n",
    "\n",
    "\n",
    "\n",
    "\n",
    "\n",
    "\n",
    "\n",
    "    \n",
    "\n",
    "\n"
   ]
  },
  {
   "cell_type": "code",
   "execution_count": 201,
   "metadata": {
    "scrolled": true
   },
   "outputs": [
    {
     "name": "stdout",
     "output_type": "stream",
     "text": [
      "______________________________\n",
      "Compound: CNP0356547\n",
      "______________________________\n",
      "______________________________\n",
      "Compound: CNP0221451\n",
      "______________________________\n",
      "______________________________\n",
      "Compound: CNP0106606\n",
      "______________________________\n",
      "Reference No. 0\n",
      "-- Original COCONUT reference:\n",
      "Ratnayake,J.Nat.Prod.,71,(2008),403\n",
      "-- Normalized reference str:\n",
      "Ratnayake, R., Fremlin, L., J., Lacey, E., Gill, J., H., Capon, R., J., Journal of Natural Products, 2008, 71 - DOI: 10.1021/np070589g\n",
      "Reference No. 1\n",
      "-- Original COCONUT reference:\n",
      "Cole,Handbook of Secondary Fungal Metabolites,Volume I,(2003)\n",
      "-- Normalized reference str:\n",
      "Cole, R., J., Jarvis, B., B., Schweikert, M., A., Preface, 2003 - DOI: 10.1016/b978-012179460-6/50345-x\n",
      "Reference No. 2\n",
      "-- Original COCONUT reference:\n",
      "Probst,Helvetica Chimica Acta,64,(1981),2056\n",
      "-- Normalized reference str:\n",
      "Probst, A., Tamm, C., Helvetica Chimica Acta, 1981, 64 - DOI: 10.1002/hlca.19810640710\n",
      "______________________________\n",
      "Compound: CNP0115074\n",
      "______________________________\n",
      "Reference No. 0\n",
      "-- Original COCONUT reference:\n",
      "10.1016/0031-9422(80)83022-6\n",
      "-- Normalized reference str:\n",
      "Filho, R., B., De Moraes, M., P., Gottlieb, O., R., Phytochemistry, 1980, 19 - DOI: 10.1016/0031-9422(80)83022-6\n",
      "Reference No. 1\n",
      "-- Original COCONUT reference:\n",
      "Harborne, The Handbook of Natural Flavonoids, 2, (1999), 517,Isoflavonoids and neoflavonoids\n",
      "-- Normalized reference str:\n",
      "L, a, p, {, \\, v, {, c, }, }, {, \\, ', \\, i, }, k, ,,  , O, l, d, {, \\, v, {, r, }, }, i, c, h,  , a, n, d,  , K, l, e, j, d, u, s, ,,  , B, o, {, \\, v, {, r, }, }, i, v, o, j,  , a, n, d,  , K, o, k, o, {, \\, v, {, s, }, }, k, a, ,,  , L, a, d, i, s, l, a, v,  , a, n, d,  , D, a, v, i, d, o, v, {, \\, ', a, }, ,,  , M, i, c, h, a, e, l, a,  , a, n, d,  , A, f, a, n, d, i, ,,  , K, h, a, l, e, d,  , a, n, d,  , K, u, b, {, \\, ', a, }, {, \\, v, {, n, }, }, ,,  , V, l, a, s, t, i, m, i, l,  , a, n, d,  , H, a, m, p, l, ,,  , R, i, c, h, a, r, d, Biochemical Systematics and Ecology, 2005, 33, 983-992\n",
      "Reference No. 2\n",
      "-- Original COCONUT reference:\n",
      "Braz Filho,Phytochem.,19,(1980),2003\n",
      "-- Normalized reference str:\n",
      "Filho, R., B., De Moraes, M., P., Gottlieb, O., R., Phytochemistry, 1980, 19 - DOI: 10.1016/0031-9422(80)83022-6\n",
      "______________________________\n",
      "Compound: CNP0291253\n",
      "______________________________\n",
      "Reference No. 0\n",
      "-- Original COCONUT reference:\n",
      "Harborne, The Handbook of Natural Flavonoids, 1, (1999), 181.Flavonols\n",
      "-- Normalized reference str:\n",
      "Matern, U., Plant Science, 2000, 155 - DOI: 10.1016/s0168-9452(00)00196-5\n",
      "Reference No. 1\n",
      "-- Original COCONUT reference:\n",
      "Anjaneyulu,Indian J.Chem.Sect.B,20,(1981),87\n",
      "-- Normalized reference str:\n",
      "Anjaneyulu, K., Anjaneyulu, R., Sener, A., Malaisse, W., J., Febs Letters, 1981, 125 - DOI: 10.1016/0014-5793(81)80995-7\n"
     ]
    }
   ],
   "source": [
    "for compound_index in range(len(structured_references)):\n",
    "    print('______________________________')\n",
    "    print('Compound: ' + str(ID_ref_tuples[compound_index][0]))\n",
    "    print('______________________________')\n",
    "    for ref_dict_index in range(len(structured_references[compound_index])):\n",
    "        if ID_ref_tuples[compound_index][1][ref_dict_index] != 'NA':\n",
    "            print('Reference No. ' + str(ref_dict_index))\n",
    "            print('-- Original COCONUT reference:')\n",
    "            print(ID_ref_tuples[compound_index][1][ref_dict_index])\n",
    "            print('-- Normalized reference str:')\n",
    "            ref_dict = structured_references[compound_index][ref_dict_index]\n",
    "            print(cn.create_normalized_reference_str(ref_dict))\n",
    "        \n",
    "        \n",
    "                            \n"
   ]
  },
  {
   "cell_type": "code",
   "execution_count": null,
   "metadata": {},
   "outputs": [],
   "source": []
  },
  {
   "cell_type": "code",
   "execution_count": null,
   "metadata": {},
   "outputs": [],
   "source": []
  },
  {
   "cell_type": "code",
   "execution_count": null,
   "metadata": {},
   "outputs": [],
   "source": []
  }
 ],
 "metadata": {
  "kernelspec": {
   "display_name": "base",
   "language": "python",
   "name": "base"
  },
  "language_info": {
   "codemirror_mode": {
    "name": "ipython",
    "version": 3
   },
   "file_extension": ".py",
   "mimetype": "text/x-python",
   "name": "python",
   "nbconvert_exporter": "python",
   "pygments_lexer": "ipython3",
   "version": "3.8.5"
  }
 },
 "nbformat": 4,
 "nbformat_minor": 4
}
