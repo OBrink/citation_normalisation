{
 "cells": [
  {
   "cell_type": "code",
   "execution_count": 161,
   "metadata": {},
   "outputs": [
    {
     "data": {
      "text/plain": [
       "<module 'citation_normalisation' from 'C:\\\\Users\\\\Otto Brinkhaus\\\\Documents\\\\Arbeit\\\\COCONUT\\\\citation_normalisation\\\\citation_normalisation.py'>"
      ]
     },
     "execution_count": 161,
     "metadata": {},
     "output_type": "execute_result"
    }
   ],
   "source": [
    "import time\n",
    "import citation_normalisation as cn\n",
    "import importlib\n",
    "importlib.reload(cn)"
   ]
  },
  {
   "cell_type": "code",
   "execution_count": 162,
   "metadata": {},
   "outputs": [],
   "source": [
    "test_list = [\n",
    "    #'Einstein und sein Jahrhundert',\n",
    "    '10.1186/s13321-021-00496-1',\n",
    "    'Rajan Optical chemical structure recognition Review',\n",
    "    '10.7164/antibiotics.33.463',\n",
    "    'Kluepfel,J. Antibiotics 25,(1972),109',\n",
    "    'Albert Einstein Elektrodynamik bewegter Körper'\n",
    "]\n",
    "\n",
    "references = []\n",
    "for test_ID in test_list:\n",
    "    reference = cn.get_structured_reference(test_ID)\n",
    "    references.append(reference)\n",
    "    "
   ]
  },
  {
   "cell_type": "code",
   "execution_count": 163,
   "metadata": {},
   "outputs": [
    {
     "name": "stdout",
     "output_type": "stream",
     "text": [
      "___________________________\n",
      "abstract - Chemistry looks back at many decades of publications on chemical compounds, their structures and properties, in scientific articles. Liberating this knowledge (semi-)automatically and making it available to the world in open-access databases is a current challenge. Apart from mining textual information, Optical Chemical Structure Recognition (OCSR), the translation of an image of a chemical structure into a machine-readable representation, is part of this workflow. As the OCSR process requires an image containing a chemical structure, there is a need for a publicly available tool that automatically recognizes and segments chemical structure depictions from scientific publications. This is especially important for older documents which are only available as scanned pages. Here, we present DECIMER (Deep lEarning for Chemical IMagE Recognition) Segmentation, the first open-source, deep learning-based tool for automated recognition and segmentation of chemical structures from the scientific literature. The workflow is divided into two main stages. During the detection step, a deep learning model recognizes chemical structure depictions and creates masks which define their positions on the input page. Subsequently, potentially incomplete masks are expanded in a post-processing workflow. The performance of DECIMER Segmentation has been manually evaluated on three sets of publications from different publishers. The approach operates on bitmap images of journal pages to be applicable also to older articles before the introduction of vector images in PDFs. By making the source code and the trained model publicly available, we hope to contribute to the development of comprehensive chemical data extraction workflows. In order to facilitate access to DECIMER Segmentation, we also developed a web application. The web application, available at https://decimer.ai , lets the user upload a pdf file and retrieve the segmented structure depictions.\n",
      "author1_last_fm - Rajan K\n",
      "author1_lastfm - RajanK\n",
      "author_list - [<metapub.pubmedauthor.PubMedAuthor object at 0x000002A2968A1FD0>, <metapub.pubmedauthor.PubMedAuthor object at 0x000002A292F0A5E0>, <metapub.pubmedauthor.PubMedAuthor object at 0x000002A295851820>, <metapub.pubmedauthor.PubMedAuthor object at 0x000002A296E0BE20>, <metapub.pubmedauthor.PubMedAuthor object at 0x000002A29584BD60>]\n",
      "authors - ['Rajan., K., ', 'Brinkhaus., H., O., ', 'Sorokina., M., ', 'Zielesny., A., ', 'Steinbeck., C., ']\n",
      "authors_str - Rajan K; Brinkhaus HO; Sorokina M; Zielesny A; Steinbeck C\n",
      "book_abstracts - None\n",
      "book_accession_id - None\n",
      "book_contribution_date - None\n",
      "book_copyright - None\n",
      "book_date_revised - None\n",
      "book_editors - None\n",
      "book_history - None\n",
      "book_language - None\n",
      "book_medium - None\n",
      "book_publication_status - None\n",
      "book_publisher - None\n",
      "book_sections - None\n",
      "book_synonyms - None\n",
      "book_title - None\n",
      "chemicals - {}\n",
      "citation - Rajan K, et al. DECIMER-Segmentation: Automated extraction of chemical structure depictions from scientific literature. DECIMER-Segmentation: Automated extraction of chemical structure depictions from scientific literature. 2021; 13:20. doi: 10.1186/s13321-021-00496-1\n",
      "citation_html - Rajan K, <i>et al</i>. DECIMER-Segmentation: Automated extraction of chemical structure depictions from scientific literature. DECIMER-Segmentation: Automated extraction of chemical structure depictions from scientific literature. 2021; 13:20. doi: 10.1186/s13321-021-00496-1\n",
      "content - <Element PubmedArticle at 0x2a29724a040>\n",
      "doi - 10.1186/s13321-021-00496-1\n",
      "first_page - 20\n",
      "grants - []\n",
      "history - {'received': datetime.datetime(2021, 1, 8, 0, 0), 'accepted': datetime.datetime(2021, 2, 22, 0, 0), 'entrez': datetime.datetime(2021, 3, 9, 0, 0), 'pubmed': datetime.datetime(2021, 3, 10, 0, 0), 'medline': datetime.datetime(2021, 3, 10, 0, 0)}\n",
      "issn - 1758-2946\n",
      "issue - 1\n",
      "journal - J Cheminform\n",
      "last_page - None\n",
      "mesh - {}\n",
      "pages - 20\n",
      "parse_xml - <function MetaPubObject.parse_xml at 0x000002A29305CD30>\n",
      "pii - 10.1186/s13321-021-00496-1\n",
      "pmc - 7941967\n",
      "pmid - 33685498\n",
      "publication_types - {'D016428': 'Journal Article'}\n",
      "pubmed_type - article\n",
      "title - DECIMER-Segmentation: Automated extraction of chemical structure depictions from scientific literature.\n",
      "to_dict - <bound method PubMedArticle.to_dict of <metapub.pubmedarticle.PubMedArticle object at 0x000002A296E00610>>\n",
      "url - https://ncbi.nlm.nih.gov/pubmed/33685498\n",
      "volume - 13\n",
      "volume_issue - 13(1)\n",
      "xml - b'<?xml version=\"1.0\" ?>\\n<!DOCTYPE PubmedArticleSet PUBLIC \"-//NLM//DTD PubMedArticle, 1st January 2019//EN\" \"https://dtd.nlm.nih.gov/ncbi/pubmed/out/pubmed_190101.dtd\">\\n<PubmedArticleSet>\\n<PubmedArticle>\\n    <MedlineCitation Status=\"PubMed-not-MEDLINE\" Owner=\"NLM\">\\n        <PMID Version=\"1\">33685498</PMID>\\n        <DateRevised>\\n            <Year>2021</Year>\\n            <Month>03</Month>\\n            <Day>12</Day>\\n        </DateRevised>\\n        <Article PubModel=\"Electronic\">\\n            <Journal>\\n                <ISSN IssnType=\"Print\">1758-2946</ISSN>\\n                <JournalIssue CitedMedium=\"Print\">\\n                    <Volume>13</Volume>\\n                    <Issue>1</Issue>\\n                    <PubDate>\\n                        <Year>2021</Year>\\n                        <Month>Mar</Month>\\n                        <Day>08</Day>\\n                    </PubDate>\\n                </JournalIssue>\\n                <Title>Journal of cheminformatics</Title>\\n                <ISOAbbreviation>J Cheminform</ISOAbbreviation>\\n            </Journal>\\n            <ArticleTitle>DECIMER-Segmentation: Automated extraction of chemical structure depictions from scientific literature.</ArticleTitle>\\n            <Pagination>\\n                <MedlinePgn>20</MedlinePgn>\\n            </Pagination>\\n            <ELocationID EIdType=\"doi\" ValidYN=\"Y\">10.1186/s13321-021-00496-1</ELocationID>\\n            <Abstract>\\n                <AbstractText>Chemistry looks back at many decades of publications on chemical compounds, their structures and properties, in scientific articles. Liberating this knowledge (semi-)automatically and making it available to the world in open-access databases is a current challenge. Apart from mining textual information, Optical Chemical Structure Recognition (OCSR), the translation of an image of a chemical structure into a machine-readable representation, is part of this workflow. As the OCSR process requires an image containing a chemical structure, there is a need for a publicly available tool that automatically recognizes and segments chemical structure depictions from scientific publications. This is especially important for older documents which are only available as scanned pages. Here, we present DECIMER (Deep lEarning for Chemical IMagE Recognition) Segmentation, the first open-source, deep learning-based tool for automated recognition and segmentation of chemical structures from the scientific literature. The workflow is divided into two main stages. During the detection step, a deep learning model recognizes chemical structure depictions and creates masks which define their positions on the input page. Subsequently, potentially incomplete masks are expanded in a post-processing workflow. The performance of DECIMER Segmentation has been manually evaluated on three sets of publications from different publishers. The approach operates on bitmap images of journal pages to be applicable also to older articles before the introduction of vector images in PDFs. By making the source code and the trained model publicly available, we hope to contribute to the development of comprehensive chemical data extraction workflows. In order to facilitate access to DECIMER Segmentation, we also developed a web application. The web application, available at https://decimer.ai , lets the user upload a pdf file and retrieve the segmented structure depictions.</AbstractText>\\n            </Abstract>\\n            <AuthorList CompleteYN=\"Y\">\\n                <Author ValidYN=\"Y\" EqualContrib=\"Y\">\\n                    <LastName>Rajan</LastName>\\n                    <ForeName>Kohulan</ForeName>\\n                    <Initials>K</Initials>\\n                    <AffiliationInfo>\\n                        <Affiliation>Institute for Inorganic and Analytical Chemistry, Friedrich-Schiller-University Jena, Lessingstr. 8, 07743, Jena, Germany.</Affiliation>\\n                    </AffiliationInfo>\\n                </Author>\\n                <Author ValidYN=\"Y\" EqualContrib=\"Y\">\\n                    <LastName>Brinkhaus</LastName>\\n                    <ForeName>Henning Otto</ForeName>\\n                    <Initials>HO</Initials>\\n                    <AffiliationInfo>\\n                        <Affiliation>Institute for Inorganic and Analytical Chemistry, Friedrich-Schiller-University Jena, Lessingstr. 8, 07743, Jena, Germany.</Affiliation>\\n                    </AffiliationInfo>\\n                </Author>\\n                <Author ValidYN=\"Y\">\\n                    <LastName>Sorokina</LastName>\\n                    <ForeName>Maria</ForeName>\\n                    <Initials>M</Initials>\\n                    <AffiliationInfo>\\n                        <Affiliation>Institute for Inorganic and Analytical Chemistry, Friedrich-Schiller-University Jena, Lessingstr. 8, 07743, Jena, Germany.</Affiliation>\\n                    </AffiliationInfo>\\n                </Author>\\n                <Author ValidYN=\"Y\">\\n                    <LastName>Zielesny</LastName>\\n                    <ForeName>Achim</ForeName>\\n                    <Initials>A</Initials>\\n                    <AffiliationInfo>\\n                        <Affiliation>Institute for Bioinformatics and Chemoinformatics, Westphalian University of Applied Sciences, August-Schmidt-Ring 10, 45665, Recklinghausen, Germany.</Affiliation>\\n                    </AffiliationInfo>\\n                </Author>\\n                <Author ValidYN=\"Y\">\\n                    <LastName>Steinbeck</LastName>\\n                    <ForeName>Christoph</ForeName>\\n                    <Initials>C</Initials>\\n                    <Identifier Source=\"ORCID\">http://orcid.org/0000-0001-6966-0814</Identifier>\\n                    <AffiliationInfo>\\n                        <Affiliation>Institute for Inorganic and Analytical Chemistry, Friedrich-Schiller-University Jena, Lessingstr. 8, 07743, Jena, Germany. christoph.steinbeck@uni-jena.de.</Affiliation>\\n                    </AffiliationInfo>\\n                </Author>\\n            </AuthorList>\\n            <Language>eng</Language>\\n            <GrantList CompleteYN=\"Y\">\\n                <Grant>\\n                    <GrantID>239748522</GrantID>\\n                    <Agency>Deutsche Forschungsgemeinschaft</Agency>\\n                    <Country/>\\n                </Grant>\\n            </GrantList>\\n            <PublicationTypeList>\\n                <PublicationType UI=\"D016428\">Journal Article</PublicationType>\\n            </PublicationTypeList>\\n            <ArticleDate DateType=\"Electronic\">\\n                <Year>2021</Year>\\n                <Month>03</Month>\\n                <Day>08</Day>\\n            </ArticleDate>\\n        </Article>\\n        <MedlineJournalInfo>\\n            <Country>England</Country>\\n            <MedlineTA>J Cheminform</MedlineTA>\\n            <NlmUniqueID>101516718</NlmUniqueID>\\n            <ISSNLinking>1758-2946</ISSNLinking>\\n        </MedlineJournalInfo>\\n        <KeywordList Owner=\"NOTNLM\">\\n            <Keyword MajorTopicYN=\"N\">Chemical data extraction</Keyword>\\n            <Keyword MajorTopicYN=\"N\">Deep learning</Keyword>\\n            <Keyword MajorTopicYN=\"N\">Image Segmentation</Keyword>\\n            <Keyword MajorTopicYN=\"N\">Neural Networks</Keyword>\\n            <Keyword MajorTopicYN=\"N\">Optical Chemical Structure Recognition</Keyword>\\n        </KeywordList>\\n    </MedlineCitation>\\n    <PubmedData>\\n        <History>\\n            <PubMedPubDate PubStatus=\"received\">\\n                <Year>2021</Year>\\n                <Month>01</Month>\\n                <Day>08</Day>\\n            </PubMedPubDate>\\n            <PubMedPubDate PubStatus=\"accepted\">\\n                <Year>2021</Year>\\n                <Month>02</Month>\\n                <Day>22</Day>\\n            </PubMedPubDate>\\n            <PubMedPubDate PubStatus=\"entrez\">\\n                <Year>2021</Year>\\n                <Month>3</Month>\\n                <Day>9</Day>\\n                <Hour>5</Hour>\\n                <Minute>41</Minute>\\n            </PubMedPubDate>\\n            <PubMedPubDate PubStatus=\"pubmed\">\\n                <Year>2021</Year>\\n                <Month>3</Month>\\n                <Day>10</Day>\\n                <Hour>6</Hour>\\n                <Minute>0</Minute>\\n            </PubMedPubDate>\\n            <PubMedPubDate PubStatus=\"medline\">\\n                <Year>2021</Year>\\n                <Month>3</Month>\\n                <Day>10</Day>\\n                <Hour>6</Hour>\\n                <Minute>1</Minute>\\n            </PubMedPubDate>\\n        </History>\\n        <PublicationStatus>epublish</PublicationStatus>\\n        <ArticleIdList>\\n            <ArticleId IdType=\"pubmed\">33685498</ArticleId>\\n            <ArticleId IdType=\"doi\">10.1186/s13321-021-00496-1</ArticleId>\\n            <ArticleId IdType=\"pii\">10.1186/s13321-021-00496-1</ArticleId>\\n            <ArticleId IdType=\"pmc\">PMC7941967</ArticleId>\\n        </ArticleIdList>\\n        <ReferenceList>\\n            <Reference>\\n                <Citation>J Cheminform. 2020 Oct 27;12(1):65</Citation>\\n                <ArticleIdList>\\n                    <ArticleId IdType=\"pubmed\">33372621</ArticleId>\\n                </ArticleIdList>\\n            </Reference>\\n            <Reference>\\n                <Citation>J Chem Inf Model. 2020 Apr 27;60(4):2059-2072</Citation>\\n                <ArticleIdList>\\n                    <ArticleId IdType=\"pubmed\">32212690</ArticleId>\\n                </ArticleIdList>\\n            </Reference>\\n            <Reference>\\n                <Citation>J Cheminform. 2011 Oct 14;3(1):37</Citation>\\n                <ArticleIdList>\\n                    <ArticleId IdType=\"pubmed\">21999342</ArticleId>\\n                </ArticleIdList>\\n            </Reference>\\n            <Reference>\\n                <Citation>Chem Rev. 2017 Jun 28;117(12):7673-7761</Citation>\\n                <ArticleIdList>\\n                    <ArticleId IdType=\"pubmed\">28475312</ArticleId>\\n                </ArticleIdList>\\n            </Reference>\\n            <Reference>\\n                <Citation>J Chem Inf Model. 2019 Mar 25;59(3):1017-1029</Citation>\\n                <ArticleIdList>\\n                    <ArticleId IdType=\"pubmed\">30758950</ArticleId>\\n                </ArticleIdList>\\n            </Reference>\\n            <Reference>\\n                <Citation>J Chem Inf Model. 2009 Mar;49(3):740-3</Citation>\\n                <ArticleIdList>\\n                    <ArticleId IdType=\"pubmed\">19434905</ArticleId>\\n                </ArticleIdList>\\n            </Reference>\\n            <Reference>\\n                <Citation>J Chem Inf Model. 2016 Oct 24;56(10):1894-1904</Citation>\\n                <ArticleIdList>\\n                    <ArticleId IdType=\"pubmed\">27669338</ArticleId>\\n                </ArticleIdList>\\n            </Reference>\\n            <Reference>\\n                <Citation>J Cheminform. 2020 Oct 7;12(1):60</Citation>\\n                <ArticleIdList>\\n                    <ArticleId IdType=\"pubmed\">33372625</ArticleId>\\n                </ArticleIdList>\\n            </Reference>\\n        </ReferenceList>\\n    </PubmedData>\\n</PubmedArticle>\\n\\n</PubmedArticleSet>'\n",
      "year - 2021\n",
      "___________________________\n",
      "title - A review of optical chemical structure recognition tools\n",
      "abstract - <jats:title>Abstract</jats:title>\n",
      "<jats:p>Structural information about chemical compounds is typically conveyed as 2D images of molecular structures in scientific documents. Unfortunately, these depictions are not a machine-readable representation of the molecules. With a backlog of decades of chemical literature in printed form not properly represented in open-access databases, there is a high demand for the translation of graphical molecular depictions into machine-readable formats. This translation process is known as Optical Chemical Structure Recognition (OCSR). Today, we are looking back on nearly three decades of development in this demanding research field. Most OCSR methods follow a rule-based approach where the key step of vectorization of the depiction is followed by the interpretation of vectors and nodes as bonds and atoms. Opposed to that, some of the latest approaches are based on deep neural networks (DNN). This review provides an overview of all methods and tools that have been published in the field of OCSR. Additionally, a small benchmark study was performed with the available open-source OCSR tools in order to examine their performance.</jats:p>\n",
      "DOI - 10.1186/s13321-020-00465-0\n",
      "issue - 1\n",
      "volume - 12\n",
      "year - 2020\n",
      "journal - Journal of Cheminformatics\n",
      "authors - ['Rajan, K.', 'Brinkhaus, H., O.', 'Zielesny, A.', 'Steinbeck, C.']\n",
      "___________________________\n",
      "title - Antibiotics from basidiomycetes. X. Scorodonin, a new antibacterial and antifungal metabolite from Marasmius scorodonius (Fr.) Fr.\n",
      "DOI - 10.7164/antibiotics.33.463\n",
      "issue - 5\n",
      "volume - 33\n",
      "year - 1980\n",
      "journal - The Journal of Antibiotics\n",
      "authors - ['Anke, T.', 'Kupka, J.', 'Schramm, G.', 'Steglich, W.']\n",
      "___________________________\n",
      "title - MYRIOCIN, A NEW ANTIFUNGAL ANTIBIOTIC FROM MYRIOCOCCUM ALBOMYCES\n",
      "DOI - 10.7164/antibiotics.25.109\n",
      "issue - 2\n",
      "volume - 25\n",
      "year - 1972\n",
      "journal - The Journal of Antibiotics\n",
      "authors - ['Kluepfel, D.', 'Bagli, J.', 'Baker, H.', 'Charest, M.', 'Kudelski, A.', 'Sehgal, S., N.', 'Vézina, C.']\n",
      "___________________________\n",
      "title - Zur Elektrodynamik bewegter Körper\n",
      "DOI - 10.1007/978-3-663-19510-8_3\n",
      "year - 1923\n",
      "authors - ['Einstein, A.']\n"
     ]
    }
   ],
   "source": [
    "for reference in references:\n",
    "    print(\"___________________________\")\n",
    "    for key in reference.keys():\n",
    "        #if reference[key]:\n",
    "        print(key + ' - ' + str(reference[key]))\n",
    "    \n",
    "\n",
    "\n",
    "#crossref_dict = references[0]\n",
    "\n"
   ]
  },
  {
   "cell_type": "code",
   "execution_count": null,
   "metadata": {
    "scrolled": true
   },
   "outputs": [],
   "source": []
  },
  {
   "cell_type": "code",
   "execution_count": null,
   "metadata": {},
   "outputs": [],
   "source": []
  },
  {
   "cell_type": "code",
   "execution_count": null,
   "metadata": {},
   "outputs": [],
   "source": []
  },
  {
   "cell_type": "code",
   "execution_count": null,
   "metadata": {},
   "outputs": [],
   "source": []
  }
 ],
 "metadata": {
  "kernelspec": {
   "display_name": "base",
   "language": "python",
   "name": "base"
  },
  "language_info": {
   "codemirror_mode": {
    "name": "ipython",
    "version": 3
   },
   "file_extension": ".py",
   "mimetype": "text/x-python",
   "name": "python",
   "nbconvert_exporter": "python",
   "pygments_lexer": "ipython3",
   "version": "3.8.5"
  }
 },
 "nbformat": 4,
 "nbformat_minor": 4
}
