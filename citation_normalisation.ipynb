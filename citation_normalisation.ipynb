{
 "cells": [
  {
   "cell_type": "code",
   "execution_count": 13,
   "metadata": {},
   "outputs": [
    {
     "data": {
      "text/plain": [
       "<module 'reference_normalization' from 'C:\\\\Users\\\\Otto Brinkhaus\\\\Documents\\\\Arbeit\\\\COCONUT\\\\reference_normalization.py'>"
      ]
     },
     "execution_count": 13,
     "metadata": {},
     "output_type": "execute_result"
    }
   ],
   "source": [
    "import citation_normalization as cn\n",
    "import importlib\n",
    "importlib.reload(cn)"
   ]
  },
  {
   "cell_type": "code",
   "execution_count": 14,
   "metadata": {},
   "outputs": [
    {
     "name": "stderr",
     "output_type": "stream",
     "text": [
      "\u001b[32m2021-05-17 16:52:55\u001b[0m \u001b[35mDESKTOP-LKA1KPD\u001b[0m \u001b[34mscholarly[2896]\u001b[0m \u001b[1;30mINFO\u001b[0m Getting https://scholar.google.com/scholar?hl=en&q=Rajan%20OCSR%20review&as_vis=0&as_sdt=0,33\n",
      "\u001b[32m2021-05-17 16:52:57\u001b[0m \u001b[35mDESKTOP-LKA1KPD\u001b[0m \u001b[34mscholarly[2896]\u001b[0m \u001b[1;30mINFO\u001b[0m Session proxy config is {}\n",
      "\u001b[32m2021-05-17 16:52:57\u001b[0m \u001b[35mDESKTOP-LKA1KPD\u001b[0m \u001b[34mscholarly[2896]\u001b[0m \u001b[1;30mINFO\u001b[0m Getting https://scholar.google.com/scholar?q=info:A7ZzYiIO2pYJ:scholar.google.com/&output=cite&scirp=0&hl=en\n",
      "\u001b[32m2021-05-17 16:52:58\u001b[0m \u001b[35mDESKTOP-LKA1KPD\u001b[0m \u001b[34mscholarly[2896]\u001b[0m \u001b[1;30mINFO\u001b[0m Session proxy config is {}\n",
      "\u001b[32m2021-05-17 16:52:58\u001b[0m \u001b[35mDESKTOP-LKA1KPD\u001b[0m \u001b[34mscholarly[2896]\u001b[0m \u001b[1;30mINFO\u001b[0m Getting https://scholar.googleusercontent.com/scholar.bib?q=info:A7ZzYiIO2pYJ:scholar.google.com/&output=citation&scisdr=CgUMXUU_EO-D6ieDuR0:AAGBfm0AAAAAYKKFoR2LynTBCenrdeDndmsajL3Bwygn&scisig=AAGBfm0AAAAAYKKFoT-YolBM9NjUw6QvKVSzY-kQNwiQ&scisf=4&ct=citation&cd=-1&hl=en\n",
      "\u001b[32m2021-05-17 16:53:00\u001b[0m \u001b[35mDESKTOP-LKA1KPD\u001b[0m \u001b[34mscholarly[2896]\u001b[0m \u001b[1;30mINFO\u001b[0m Session proxy config is {}\n",
      "\u001b[32m2021-05-17 16:53:00\u001b[0m \u001b[35mDESKTOP-LKA1KPD\u001b[0m \u001b[34mscholarly[2896]\u001b[0m \u001b[1;30mINFO\u001b[0m Getting https://scholar.google.com/scholar?hl=en&q=Rajan%20Sorokina%20Brinkhaus&as_vis=0&as_sdt=0,33\n",
      "\u001b[32m2021-05-17 16:53:02\u001b[0m \u001b[35mDESKTOP-LKA1KPD\u001b[0m \u001b[34mscholarly[2896]\u001b[0m \u001b[1;30mINFO\u001b[0m Session proxy config is {}\n",
      "\u001b[32m2021-05-17 16:53:02\u001b[0m \u001b[35mDESKTOP-LKA1KPD\u001b[0m \u001b[34mscholarly[2896]\u001b[0m \u001b[1;30mINFO\u001b[0m Getting https://scholar.google.com/scholar?q=info:vZMcqmUdk6UJ:scholar.google.com/&output=cite&scirp=0&hl=en\n",
      "\u001b[32m2021-05-17 16:53:04\u001b[0m \u001b[35mDESKTOP-LKA1KPD\u001b[0m \u001b[34mscholarly[2896]\u001b[0m \u001b[1;30mINFO\u001b[0m Session proxy config is {}\n",
      "\u001b[32m2021-05-17 16:53:04\u001b[0m \u001b[35mDESKTOP-LKA1KPD\u001b[0m \u001b[34mscholarly[2896]\u001b[0m \u001b[1;30mINFO\u001b[0m Getting https://scholar.googleusercontent.com/scholar.bib?q=info:vZMcqmUdk6UJ:scholar.google.com/&output=citation&scisdr=CgUMXUU_EO-D6ieDvwo:AAGBfm0AAAAAYKKFpwo9pB0_yGSatgX1GQhcl2Gh3JUo&scisig=AAGBfm0AAAAAYKKFp4ko9ESrNtQPm-800neQCdHd3yl2&scisf=4&ct=citation&cd=-1&hl=en\n",
      "\u001b[32m2021-05-17 16:53:06\u001b[0m \u001b[35mDESKTOP-LKA1KPD\u001b[0m \u001b[34mscholarly[2896]\u001b[0m \u001b[1;30mINFO\u001b[0m Session proxy config is {}\n",
      "\u001b[32m2021-05-17 16:53:06\u001b[0m \u001b[35mDESKTOP-LKA1KPD\u001b[0m \u001b[34mscholarly[2896]\u001b[0m \u001b[1;30mINFO\u001b[0m Getting https://scholar.google.com/scholar?hl=en&q=10.7164/antibiotics.33.463&as_vis=0&as_sdt=0,33\n",
      "\u001b[32m2021-05-17 16:53:08\u001b[0m \u001b[35mDESKTOP-LKA1KPD\u001b[0m \u001b[34mscholarly[2896]\u001b[0m \u001b[1;30mINFO\u001b[0m Session proxy config is {}\n",
      "\u001b[32m2021-05-17 16:53:08\u001b[0m \u001b[35mDESKTOP-LKA1KPD\u001b[0m \u001b[34mscholarly[2896]\u001b[0m \u001b[1;30mINFO\u001b[0m Getting https://scholar.google.com/scholar?q=info:xtkNPNK0aagJ:scholar.google.com/&output=cite&scirp=0&hl=en\n",
      "\u001b[32m2021-05-17 16:53:10\u001b[0m \u001b[35mDESKTOP-LKA1KPD\u001b[0m \u001b[34mscholarly[2896]\u001b[0m \u001b[1;30mINFO\u001b[0m Session proxy config is {}\n",
      "\u001b[32m2021-05-17 16:53:10\u001b[0m \u001b[35mDESKTOP-LKA1KPD\u001b[0m \u001b[34mscholarly[2896]\u001b[0m \u001b[1;30mINFO\u001b[0m Getting https://scholar.googleusercontent.com/scholar.bib?q=info:xtkNPNK0aagJ:scholar.google.com/&output=citation&scisdr=CgUMXUU_EO-D6ieDtOo:AAGBfm0AAAAAYKKFrOogW0SY6NRMFb6cSkUr5r6c36qA&scisig=AAGBfm0AAAAAYKKFrOS4FEwereflvEV3p751MFXURX7F&scisf=4&ct=citation&cd=-1&hl=en\n",
      "\u001b[32m2021-05-17 16:53:12\u001b[0m \u001b[35mDESKTOP-LKA1KPD\u001b[0m \u001b[34mscholarly[2896]\u001b[0m \u001b[1;30mINFO\u001b[0m Session proxy config is {}\n",
      "\u001b[32m2021-05-17 16:53:12\u001b[0m \u001b[35mDESKTOP-LKA1KPD\u001b[0m \u001b[34mscholarly[2896]\u001b[0m \u001b[1;30mINFO\u001b[0m Getting https://scholar.google.com/scholar?hl=en&q=Kluepfel%2CJ.%20Antibiotics%2025%2C%281972%29%2C109&as_vis=0&as_sdt=0,33\n",
      "\u001b[32m2021-05-17 16:53:13\u001b[0m \u001b[35mDESKTOP-LKA1KPD\u001b[0m \u001b[34mscholarly[2896]\u001b[0m \u001b[1;30mINFO\u001b[0m Session proxy config is {}\n",
      "\u001b[32m2021-05-17 16:53:13\u001b[0m \u001b[35mDESKTOP-LKA1KPD\u001b[0m \u001b[34mscholarly[2896]\u001b[0m \u001b[1;30mINFO\u001b[0m Getting https://scholar.google.com/scholar?q=info:PZRi3h0JkTgJ:scholar.google.com/&output=cite&scirp=0&hl=en\n",
      "\u001b[32m2021-05-17 16:53:15\u001b[0m \u001b[35mDESKTOP-LKA1KPD\u001b[0m \u001b[34mscholarly[2896]\u001b[0m \u001b[1;30mINFO\u001b[0m Session proxy config is {}\n",
      "\u001b[32m2021-05-17 16:53:15\u001b[0m \u001b[35mDESKTOP-LKA1KPD\u001b[0m \u001b[34mscholarly[2896]\u001b[0m \u001b[1;30mINFO\u001b[0m Getting https://scholar.googleusercontent.com/scholar.bib?q=info:PZRi3h0JkTgJ:scholar.google.com/&output=citation&scisdr=CgUMXUU_EO-D6ieDqbo:AAGBfm0AAAAAYKKFsbqLnBtjif9f840hSxMDAbqGCtiA&scisig=AAGBfm0AAAAAYKKFsadgcEEO9cXIxD2mdD5c3GPYRVd5&scisf=4&ct=citation&cd=-1&hl=en\n",
      "\u001b[32m2021-05-17 16:53:17\u001b[0m \u001b[35mDESKTOP-LKA1KPD\u001b[0m \u001b[34mscholarly[2896]\u001b[0m \u001b[1;30mINFO\u001b[0m Session proxy config is {}\n",
      "\u001b[32m2021-05-17 16:53:17\u001b[0m \u001b[35mDESKTOP-LKA1KPD\u001b[0m \u001b[34mscholarly[2896]\u001b[0m \u001b[1;30mINFO\u001b[0m Getting https://scholar.google.com/scholar?hl=en&q=Actinoids%2C%20Transactinoids%20Holleman&as_vis=0&as_sdt=0,33\n",
      "\u001b[32m2021-05-17 16:53:18\u001b[0m \u001b[35mDESKTOP-LKA1KPD\u001b[0m \u001b[34mscholarly[2896]\u001b[0m \u001b[1;30mINFO\u001b[0m Session proxy config is {}\n",
      "\u001b[32m2021-05-17 16:53:18\u001b[0m \u001b[35mDESKTOP-LKA1KPD\u001b[0m \u001b[34mscholarly[2896]\u001b[0m \u001b[1;30mINFO\u001b[0m Getting https://scholar.google.com/scholar?q=info:9UZgRPyaBBwJ:scholar.google.com/&output=cite&scirp=0&hl=en\n",
      "\u001b[32m2021-05-17 16:53:20\u001b[0m \u001b[35mDESKTOP-LKA1KPD\u001b[0m \u001b[34mscholarly[2896]\u001b[0m \u001b[1;30mINFO\u001b[0m Session proxy config is {}\n",
      "\u001b[32m2021-05-17 16:53:20\u001b[0m \u001b[35mDESKTOP-LKA1KPD\u001b[0m \u001b[34mscholarly[2896]\u001b[0m \u001b[1;30mINFO\u001b[0m Getting https://scholar.googleusercontent.com/scholar.bib?q=info:9UZgRPyaBBwJ:scholar.google.com/&output=citation&scisdr=CgUMXUU_EO-D6ieDr3I:AAGBfm0AAAAAYKKFt3KGPBk4mq673qgkghilc81IuKFC&scisig=AAGBfm0AAAAAYKKFt1QEwtlc4YmH0l2slHi2_InL5eGQ&scisf=4&ct=citation&cd=-1&hl=en\n",
      "\u001b[32m2021-05-17 16:53:22\u001b[0m \u001b[35mDESKTOP-LKA1KPD\u001b[0m \u001b[34mscholarly[2896]\u001b[0m \u001b[1;30mINFO\u001b[0m Session proxy config is {}\n"
     ]
    }
   ],
   "source": [
    "test_list = [\n",
    "    'Rajan OCSR review',\n",
    "    'Rajan Sorokina Brinkhaus',\n",
    "    '10.7164/antibiotics.33.463',\n",
    "    'Kluepfel,J. Antibiotics 25,(1972),109',\n",
    "    'Actinoids, Transactinoids Holleman',\n",
    "]\n",
    "\n",
    "references = []\n",
    "for test_ID in test_list:\n",
    "    reference = cn.get_structured_reference(test_ID)\n",
    "    references.append(reference)\n",
    "    "
   ]
  },
  {
   "cell_type": "code",
   "execution_count": 15,
   "metadata": {},
   "outputs": [
    {
     "name": "stdout",
     "output_type": "stream",
     "text": [
      "Rajan, K., Brinkhaus, H., O., Zielesny, A., Steinbeck, C., Journal of Cheminformatics, 2020, 12, 1-13\n",
      "Rajan, K., Brinkhaus, H., O., Sorokina, M., Zielesny, A., Steinbeck, C., Journal of Cheminformatics, 2021, 13, 1-9\n",
      "Anke, T., Kupka, J., Schramm, G., Steglich, W., The Journal of Antibiotics, 1980, 33, 463-467\n",
      "Kluepfel, D., Bagli, J., Baker, H., Charest, M., Kudelski, A., Sehgal, S., N., Vezina, C., The Journal of Antibiotics, 1972, 25, 109-115\n",
      "Holleman, A., F., Wiberg, E., Wiberg, N., Inorganic chemistry. Vol. 2. Subgroup elements, lanthanoids, actinoids, transactinoids. 103, 2017\n"
     ]
    }
   ],
   "source": [
    "for reference in references:\n",
    "    print(reference)\n",
    "\n"
   ]
  },
  {
   "cell_type": "code",
   "execution_count": null,
   "metadata": {},
   "outputs": [],
   "source": []
  }
 ],
 "metadata": {
  "kernelspec": {
   "display_name": "base",
   "language": "python",
   "name": "base"
  },
  "language_info": {
   "codemirror_mode": {
    "name": "ipython",
    "version": 3
   },
   "file_extension": ".py",
   "mimetype": "text/x-python",
   "name": "python",
   "nbconvert_exporter": "python",
   "pygments_lexer": "ipython3",
   "version": "3.8.5"
  }
 },
 "nbformat": 4,
 "nbformat_minor": 4
}
