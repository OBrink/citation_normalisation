{
 "cells": [
  {
   "cell_type": "code",
   "execution_count": 263,
   "metadata": {},
   "outputs": [
    {
     "data": {
      "text/plain": [
       "<module 'citation_normalisation' from 'C:\\\\Users\\\\Otto Brinkhaus\\\\Documents\\\\Arbeit\\\\COCONUT\\\\citation_normalisation\\\\citation_normalisation.py'>"
      ]
     },
     "execution_count": 263,
     "metadata": {},
     "output_type": "execute_result"
    }
   ],
   "source": [
    "import time\n",
    "import pandas as pd\n",
    "import citation_normalisation as cn\n",
    "import importlib\n",
    "importlib.reload(cn)"
   ]
  },
  {
   "cell_type": "code",
   "execution_count": 219,
   "metadata": {},
   "outputs": [],
   "source": [
    "# COCONUT examples\n",
    "test_list = [\n",
    "    '10.7164/antibiotics.33.463',\n",
    "    'Kluepfel,J. Antibiotics 25,(1972),109',\n",
    "    'Ratnayake,J.Nat.Prod.,71,(2008),403',\n",
    "    'Probst,Helvetica Chimica Acta,64,(1981),2056',\n",
    "    'Braz Filho,Phytochem.,19,(1980),2003'\n",
    "]\n",
    "references = []\n",
    "for test_ID in test_list:\n",
    "    reference = cn.get_structured_reference(test_ID)\n",
    "    references.append(reference)\n",
    "    "
   ]
  },
  {
   "cell_type": "code",
   "execution_count": 220,
   "metadata": {},
   "outputs": [
    {
     "name": "stdout",
     "output_type": "stream",
     "text": [
      "title - MYRIOCIN, A NEW ANTIFUNGAL ANTIBIOTIC FROM MYRIOCOCCUM ALBOMYCES\n",
      "DOI - 10.7164/antibiotics.25.109\n",
      "issue - 2\n",
      "volume - 25\n",
      "year - 1972\n",
      "journal - The Journal of Antibiotics\n",
      "authors - ['Kluepfel, D.', 'Bagli, J.', 'Baker, H.', 'Charest, M.', 'Kudelski, A.', 'Sehgal, S., N.', 'Vézina, C.']\n"
     ]
    }
   ],
   "source": [
    "# Print exemplary dict\n",
    "for key in references[0].keys():\n",
    "    print(key + ' - ' + str(references[1][key]))"
   ]
  },
  {
   "cell_type": "code",
   "execution_count": 221,
   "metadata": {},
   "outputs": [
    {
     "name": "stdout",
     "output_type": "stream",
     "text": [
      "Anke, T., Kupka, J., Schramm, G., Steglich, W., The Journal of Antibiotics, 1980, 33 - DOI: 10.7164/antibiotics.33.463\n",
      "Kluepfel, D., Bagli, J., Baker, H., Charest, M., Kudelski, A., Sehgal, S., N., Vézina, C., The Journal of Antibiotics, 1972, 25 - DOI: 10.7164/antibiotics.25.109\n",
      "Ratnayake, R., Fremlin, L., J., Lacey, E., Gill, J., H., Capon, R., J., Journal of Natural Products, 2008, 71 - DOI: 10.1021/np070589g\n",
      "Probst, A., Tamm, C., Helvetica Chimica Acta, 1981, 64 - DOI: 10.1002/hlca.19810640710\n",
      "Filho, R., B., De Moraes, M., P., Gottlieb, O., R., Phytochemistry, 1980, 19 - DOI: 10.1016/0031-9422(80)83022-6\n"
     ]
    }
   ],
   "source": [
    "for reference_dict in references:\n",
    "    reference_str = cn.create_normalized_reference_str(reference_dict)\n",
    "    print(reference_str)"
   ]
  },
  {
   "cell_type": "code",
   "execution_count": 280,
   "metadata": {},
   "outputs": [
    {
     "name": "stdout",
     "output_type": "stream",
     "text": [
      "70970\n"
     ]
    }
   ],
   "source": [
    "# Read data from file\n",
    "coconut_references = pd.read_csv('./coconut_references.csv')\n",
    "unstructured_references = coconut_references['citationDOI']\n",
    "COCONUT_IDs = coconut_references['coconut_id']\n",
    "\n",
    "ID_ref_tuples = zip(COCONUT_IDs, unstructured_references)\n",
    "\n",
    "# Get everything into the right format and filter empty reference lists\n",
    "ID_ref_tuples = [(tup[0], eval(tup[1])) # the references are read as str and need to be converted to lists\n",
    "                for tup in ID_ref_tuples\n",
    "                if len(eval(tup[1])) != 0 # Don't include empty reference lists\n",
    "                if eval(tup[1]) != ['NA']] # Don't include reference list with 'NA' as only element\n",
    "print(len(ID_ref_tuples))\n"
   ]
  },
  {
   "cell_type": "code",
   "execution_count": null,
   "metadata": {},
   "outputs": [],
   "source": []
  },
  {
   "cell_type": "code",
   "execution_count": null,
   "metadata": {},
   "outputs": [
    {
     "name": "stdout",
     "output_type": "stream",
     "text": [
      "NAHaba,Phytochem.,68,82007),1255\n",
      "\n",
      "10.7164/antibiotics.48.1304\n",
      "10.1590/S0103-50532005000800023\n",
      "Heerden,J.Ethnopharmacol.,119,(2008),434\n",
      "Harborne, The Handbook of Natural Flavonoids, 1, (1999), 549,C-glycosylflavones\n"
     ]
    },
    {
     "name": "stderr",
     "output_type": "stream",
     "text": [
      "\u001b[32m2021-06-01 19:45:22\u001b[0m \u001b[35mDESKTOP-LKA1KPD\u001b[0m \u001b[34mscholarly[3696]\u001b[0m \u001b[1;30mINFO\u001b[0m Getting https://scholar.google.com/scholar?hl=en&q=Haba%2CPhytochem.%2C68%2C82007%29%2C1255&as_vis=0&as_sdt=0,33\n",
      "\u001b[32m2021-06-01 19:45:24\u001b[0m \u001b[35mDESKTOP-LKA1KPD\u001b[0m \u001b[34mscholarly[3696]\u001b[0m \u001b[1;30mINFO\u001b[0m Session proxy config is {}\n",
      "\u001b[32m2021-06-01 19:45:24\u001b[0m \u001b[35mDESKTOP-LKA1KPD\u001b[0m \u001b[34mscholarly[3696]\u001b[0m \u001b[1;30mINFO\u001b[0m Got a captcha request.\n"
     ]
    },
    {
     "name": "stdout",
     "output_type": "stream",
     "text": [
      "Yu,J.Nat.Prod.,72,(2009),866\n",
      "El-Sayed,Phytochem.,30,(1991),2442\n"
     ]
    },
    {
     "name": "stderr",
     "output_type": "stream",
     "text": [
      "\u001b[32m2021-06-01 19:45:43\u001b[0m \u001b[35mDESKTOP-LKA1KPD\u001b[0m \u001b[34mscholarly[3696]\u001b[0m \u001b[1;30mINFO\u001b[0m Solving the captcha took already 10 seconds (of maximum 604800 s).\n",
      "\u001b[32m2021-06-01 19:45:53\u001b[0m \u001b[35mDESKTOP-LKA1KPD\u001b[0m \u001b[34mscholarly[3696]\u001b[0m \u001b[1;30mINFO\u001b[0m Solving the captcha took already 20 seconds (of maximum 604800 s).\n",
      "\u001b[32m2021-06-01 19:46:03\u001b[0m \u001b[35mDESKTOP-LKA1KPD\u001b[0m \u001b[34mscholarly[3696]\u001b[0m \u001b[1;30mINFO\u001b[0m Solving the captcha took already 30 seconds (of maximum 604800 s).\n",
      "\u001b[32m2021-06-01 19:46:13\u001b[0m \u001b[35mDESKTOP-LKA1KPD\u001b[0m \u001b[34mscholarly[3696]\u001b[0m \u001b[1;30mINFO\u001b[0m Solving the captcha took already 40 seconds (of maximum 604800 s).\n",
      "\u001b[32m2021-06-01 19:46:17\u001b[0m \u001b[35mDESKTOP-LKA1KPD\u001b[0m \u001b[34mscholarly[3696]\u001b[0m \u001b[1;30mINFO\u001b[0m Browser seems to be disfunctional - closed by user?\n",
      "\u001b[32m2021-06-01 19:46:17\u001b[0m \u001b[35mDESKTOP-LKA1KPD\u001b[0m \u001b[34mscholarly[3696]\u001b[0m \u001b[1;30mINFO\u001b[0m Exception WebDriverException while fetching page: ('Failed to decode response from marionette', None, None)\n",
      "\u001b[32m2021-06-01 19:46:17\u001b[0m \u001b[35mDESKTOP-LKA1KPD\u001b[0m \u001b[34mscholarly[3696]\u001b[0m \u001b[1;30mINFO\u001b[0m Retrying with a new session.\n",
      "\u001b[32m2021-06-01 19:46:18\u001b[0m \u001b[35mDESKTOP-LKA1KPD\u001b[0m \u001b[34mscholarly[3696]\u001b[0m \u001b[1;30mINFO\u001b[0m Session proxy config is {}\n",
      "\u001b[32m2021-06-01 19:46:18\u001b[0m \u001b[35mDESKTOP-LKA1KPD\u001b[0m \u001b[34mscholarly[3696]\u001b[0m \u001b[1;30mINFO\u001b[0m Got a captcha request.\n"
     ]
    }
   ],
   "source": [
    "importlib.reload(cn)\n",
    "from typing import List, Tuple, Dict\n",
    "from multiprocessing.dummy import Pool as ThreadPool\n",
    "\n",
    "\n",
    "def retrieve_reference_data_per_tuple(ID_ref_tuple: Tuple[str, List[str]]) -> Tuple[str, List[str], List[Dict]]:\n",
    "    '''This function takes a tuple containing the COCONUT ID and a list of unstructured\n",
    "    references and returns tuple containing the COCONUT ID, a list of unstructured references.'''\n",
    "    COCONUT_ID, unstructured_ref_list = ID_ref_tuple\n",
    "    structured_ref_dicts = []\n",
    "    for unstructured_ref in unstructured_ref_list:\n",
    "        print(unstructured_ref)\n",
    "        if unstructured_ref != 'NA':\n",
    "            ref_dict = cn.get_structured_reference(unstructured_ref)\n",
    "            structured_ref_dicts.append(ref_dict)\n",
    "        else: \n",
    "            structured_ref_dicts.append(None)\n",
    "    extended_ID_ref_tuple = (COCONUT_ID, unstructured_ref_list, structured_ref_list)\n",
    "    return extended_ID_ref_tuple\n",
    "#structured_references.append(structured_ref_dicts)\n",
    "\n",
    "with ThreadPool() as pool:\n",
    "    ID_unstructured_structured_references = pool.map(retrieve_reference_data_per_tuple, ID_ref_tuples[10:15])    \n",
    "    \n",
    "    \n",
    "\n",
    "            \n",
    "\n",
    "\n",
    "\n",
    "\n"
   ]
  },
  {
   "cell_type": "code",
   "execution_count": 298,
   "metadata": {},
   "outputs": [
    {
     "data": {
      "text/plain": [
       "[None, None, None, None, None]"
      ]
     },
     "execution_count": 298,
     "metadata": {},
     "output_type": "execute_result"
    }
   ],
   "source": [
    "ID_unstructured_structured_references"
   ]
  },
  {
   "cell_type": "code",
   "execution_count": 286,
   "metadata": {
    "scrolled": true
   },
   "outputs": [
    {
     "name": "stdout",
     "output_type": "stream",
     "text": [
      "______________________________\n",
      "Compound: CNP0356547\n",
      "______________________________\n",
      "______________________________\n",
      "Compound: CNP0221451\n",
      "______________________________\n",
      "______________________________\n",
      "Compound: CNP0106606\n",
      "______________________________\n",
      "Reference No. 0\n",
      "-- Original COCONUT reference:\n",
      "Ratnayake,J.Nat.Prod.,71,(2008),403\n",
      "-- Normalized reference str:\n",
      "Ratnayake, R., Fremlin, L., J., Lacey, E., Gill, J., H., Capon, R., J., Journal of Natural Products, 2008, 71 - DOI: 10.1021/np070589g\n",
      "True\n",
      "Reference No. 1\n",
      "-- Original COCONUT reference:\n",
      "Cole,Handbook of Secondary Fungal Metabolites,Volume I,(2003)\n",
      "-- Normalized reference str:\n",
      "Cole, R., J., Jarvis, B., B., Schweikert, M., A., Preface, 2003 - DOI: 10.1016/b978-012179460-6/50345-x\n",
      "True\n",
      "Reference No. 2\n",
      "-- Original COCONUT reference:\n",
      "Probst,Helvetica Chimica Acta,64,(1981),2056\n",
      "-- Normalized reference str:\n",
      "Probst, A., Tamm, C., Helvetica Chimica Acta, 1981, 64 - DOI: 10.1002/hlca.19810640710\n",
      "True\n",
      "______________________________\n",
      "Compound: CNP0115074\n",
      "______________________________\n",
      "Reference No. 0\n",
      "-- Original COCONUT reference:\n",
      "10.1016/0031-9422(80)83022-6\n",
      "-- Normalized reference str:\n",
      "Filho, R., B., De Moraes, M., P., Gottlieb, O., R., Phytochemistry, 1980, 19 - DOI: 10.1016/0031-9422(80)83022-6\n",
      "True\n",
      "Reference No. 1\n",
      "-- Original COCONUT reference:\n",
      "Harborne, The Handbook of Natural Flavonoids, 2, (1999), 517,Isoflavonoids and neoflavonoids\n",
      "-- Normalized reference str:\n",
      "Lap{\\v{c}}{\\'\\i}k, , Klejdus, , Koko{\\v{s}}ka, , Davidov{\\'a}, , Afandi, , Kub{\\'a}{\\v{n}}, , Hampl, , Biochemical Systematics and Ecology, 2005, 33, 983-992\n",
      "None\n",
      "Reference No. 2\n",
      "-- Original COCONUT reference:\n",
      "Braz Filho,Phytochem.,19,(1980),2003\n",
      "-- Normalized reference str:\n",
      "Filho, R., B., De Moraes, M., P., Gottlieb, O., R., Phytochemistry, 1980, 19 - DOI: 10.1016/0031-9422(80)83022-6\n",
      "True\n",
      "______________________________\n",
      "Compound: CNP0291253\n",
      "______________________________\n",
      "Reference No. 0\n",
      "-- Original COCONUT reference:\n",
      "Harborne, The Handbook of Natural Flavonoids, 1, (1999), 181.Flavonols\n",
      "-- Normalized reference str:\n",
      "Matern, U., Plant Science, 2000, 155 - DOI: 10.1016/s0168-9452(00)00196-5\n",
      "None\n",
      "Reference No. 1\n",
      "-- Original COCONUT reference:\n",
      "Anjaneyulu,Indian J.Chem.Sect.B,20,(1981),87\n",
      "-- Normalized reference str:\n",
      "Anjaneyulu, K., Anjaneyulu, R., Sener, A., Malaisse, W., J., Febs Letters, 1981, 125 - DOI: 10.1016/0014-5793(81)80995-7\n",
      "True\n",
      "______________________________\n",
      "Compound: CNP0145813\n",
      "______________________________\n",
      "Reference No. 0\n",
      "-- Original COCONUT reference:\n",
      "Blunt,Nat.Prod.Rep.,27,(2010),165\n",
      "-- Normalized reference str:\n",
      "Hu, G., , Yuan, , Sun, , She,  ., I., , Wu, J., -., , Lan,  ., U., , Zhu, , Lin,  ., N., , Chen, ,., H., , Marine Drugs, 2011, 9, 514-525\n",
      "None\n",
      "______________________________\n",
      "Compound: CNP0128179\n",
      "______________________________\n",
      "Reference No. 0\n",
      "-- Original COCONUT reference:\n",
      "21939219\n",
      "-- Normalized reference str:\n",
      "Liu., J., , Dumontet., V., , Simonin., A., L., , Iorga., B., I., , Guerineau., V., , Litaudon., M., , Nguyen., V., H., , Gueritte., F., , J Nat Prod, 2011, 74, 2081-8\n",
      "True\n",
      "______________________________\n",
      "Compound: CNP0063031\n",
      "______________________________\n",
      "Reference No. 0\n",
      "-- Original COCONUT reference:\n",
      "Kiyamitdinova,Khim.Prir.Soedin.,(1967),411\n",
      "-- Normalized reference str:\n",
      "Akramov, S., T., Kiyamitdinova, F., Yunusov, S., Y., Chemistry of Natural Compounds, 1967, 3 - DOI: 10.1007/bf00564140\n",
      "None\n",
      "Reference No. 1\n",
      "-- Original COCONUT reference:\n",
      "Liddell,Nat.Prod.Rep.,18,(2001),441\n",
      "-- Normalized reference str:\n",
      "Liddell, J., R., Natural Product Reports, 2001, 18 - DOI: 10.1039/b004676k\n",
      "True\n",
      "Reference No. 2\n",
      "-- Original COCONUT reference:\n",
      "Culvenor,Aust.J.Chem.,28,(1975),2319\n",
      "-- Normalized reference str:\n",
      "Culvenor, C., Johns, S., Smith, L., Australian Journal of Chemistry, 1975, 28 - DOI: 10.1071/ch9752319\n",
      "True\n",
      "______________________________\n",
      "Compound: CNP0386095\n",
      "______________________________\n",
      "Reference No. 0\n",
      "-- Original COCONUT reference:\n",
      "24421258\n",
      "-- Normalized reference str:\n",
      "de., Lacy., Costello., B., , Amann., A., , Al-Kateb., H., , Flynn., C., , Filipiak., W., , Khalid., T., , Osborne., D., , Ratcliffe., N., M., , J Breath Res, 2014, 8, 014001\n",
      "True\n",
      "______________________________\n",
      "Compound: CNP0174750\n",
      "______________________________\n",
      "______________________________\n",
      "Compound: CNP0115930\n",
      "______________________________\n",
      "______________________________\n",
      "Compound: CNP0166799\n",
      "______________________________\n",
      "Reference No. 0\n",
      "-- Original COCONUT reference:\n",
      "Haba,Phytochem.,68,82007),1255\n",
      "-- Normalized reference str:\n"
     ]
    },
    {
     "ename": "TypeError",
     "evalue": "'bool' object is not subscriptable",
     "output_type": "error",
     "traceback": [
      "\u001b[1;31m---------------------------------------------------------------------------\u001b[0m",
      "\u001b[1;31mTypeError\u001b[0m                                 Traceback (most recent call last)",
      "\u001b[1;32m<ipython-input-286-482e23364fb6>\u001b[0m in \u001b[0;36m<module>\u001b[1;34m\u001b[0m\n\u001b[0;32m     12\u001b[0m             \u001b[0mprint\u001b[0m\u001b[1;33m(\u001b[0m\u001b[1;34m'-- Normalized reference str:'\u001b[0m\u001b[1;33m)\u001b[0m\u001b[1;33m\u001b[0m\u001b[1;33m\u001b[0m\u001b[0m\n\u001b[0;32m     13\u001b[0m             \u001b[0mref_dict\u001b[0m \u001b[1;33m=\u001b[0m \u001b[0mstructured_references\u001b[0m\u001b[1;33m[\u001b[0m\u001b[0mcompound_index\u001b[0m\u001b[1;33m]\u001b[0m\u001b[1;33m[\u001b[0m\u001b[0mref_dict_index\u001b[0m\u001b[1;33m]\u001b[0m\u001b[1;33m\u001b[0m\u001b[1;33m\u001b[0m\u001b[0m\n\u001b[1;32m---> 14\u001b[1;33m             \u001b[0mprint\u001b[0m\u001b[1;33m(\u001b[0m\u001b[0mcn\u001b[0m\u001b[1;33m.\u001b[0m\u001b[0mcreate_normalized_reference_str\u001b[0m\u001b[1;33m(\u001b[0m\u001b[0mref_dict\u001b[0m\u001b[1;33m)\u001b[0m\u001b[1;33m)\u001b[0m\u001b[1;33m\u001b[0m\u001b[1;33m\u001b[0m\u001b[0m\n\u001b[0m\u001b[0;32m     15\u001b[0m             \u001b[0mprint\u001b[0m\u001b[1;33m(\u001b[0m\u001b[0mcn\u001b[0m\u001b[1;33m.\u001b[0m\u001b[0mreference_quality_assurance\u001b[0m\u001b[1;33m(\u001b[0m\u001b[0mref_dict\u001b[0m\u001b[1;33m)\u001b[0m\u001b[1;33m)\u001b[0m\u001b[1;33m\u001b[0m\u001b[1;33m\u001b[0m\u001b[0m\n\u001b[0;32m     16\u001b[0m             \u001b[1;31m#if type(ref_dict['authors']) == str:\u001b[0m\u001b[1;33m\u001b[0m\u001b[1;33m\u001b[0m\u001b[1;33m\u001b[0m\u001b[0m\n",
      "\u001b[1;32m~\\Documents\\Arbeit\\COCONUT\\citation_normalisation\\citation_normalisation.py\u001b[0m in \u001b[0;36mcreate_normalized_reference_str\u001b[1;34m(article_dict)\u001b[0m\n\u001b[0;32m    317\u001b[0m         \u001b[0mreference_str\u001b[0m \u001b[1;33m=\u001b[0m \u001b[1;34m''\u001b[0m\u001b[1;33m\u001b[0m\u001b[1;33m\u001b[0m\u001b[0m\n\u001b[0;32m    318\u001b[0m         \u001b[1;31m# Add authors\u001b[0m\u001b[1;33m\u001b[0m\u001b[1;33m\u001b[0m\u001b[1;33m\u001b[0m\u001b[0m\n\u001b[1;32m--> 319\u001b[1;33m         \u001b[1;32mfor\u001b[0m \u001b[0mauthor\u001b[0m \u001b[1;32min\u001b[0m \u001b[0marticle_dict\u001b[0m\u001b[1;33m[\u001b[0m\u001b[1;34m'authors'\u001b[0m\u001b[1;33m]\u001b[0m\u001b[1;33m:\u001b[0m\u001b[1;33m\u001b[0m\u001b[1;33m\u001b[0m\u001b[0m\n\u001b[0m\u001b[0;32m    320\u001b[0m                 \u001b[0mreference_str\u001b[0m \u001b[1;33m+=\u001b[0m \u001b[0mauthor\u001b[0m \u001b[1;33m+\u001b[0m \u001b[1;34m', '\u001b[0m\u001b[1;33m\u001b[0m\u001b[1;33m\u001b[0m\u001b[0m\n\u001b[0;32m    321\u001b[0m         \u001b[1;31m# If the journal name is known: Create something with the pattern\u001b[0m\u001b[1;33m\u001b[0m\u001b[1;33m\u001b[0m\u001b[1;33m\u001b[0m\u001b[0m\n",
      "\u001b[1;31mTypeError\u001b[0m: 'bool' object is not subscriptable"
     ]
    }
   ],
   "source": [
    "importlib.reload(cn)\n",
    "\n",
    "\n",
    "for compound_index in range(len(structured_references)):\n",
    "    print('______________________________')\n",
    "    print('Compound: ' + str(ID_ref_tuples[compound_index][0]))\n",
    "    print('______________________________')\n",
    "    for ref_dict_index in range(len(structured_references[compound_index])):\n",
    "        if ID_ref_tuples[compound_index][1][ref_dict_index] != 'NA':\n",
    "            print('Reference No. ' + str(ref_dict_index))\n",
    "            print('-- Original COCONUT reference:')\n",
    "            print(ID_ref_tuples[compound_index][1][ref_dict_index])\n",
    "            print('-- Normalized reference str:')\n",
    "            ref_dict = structured_references[compound_index][ref_dict_index]\n",
    "            print(cn.create_normalized_reference_str(ref_dict))\n",
    "            print(cn.reference_quality_assurance(ref_dict))\n",
    "            #if type(ref_dict['authors']) == str:\n",
    "                #print(cn.get_normalized_author_list(ref_dict['authors'], 'scholarly'))\n",
    "                #cn.get_normalized_author_list(ref_dict['authors'], 'scholarly')\n",
    "        \n",
    "        \n",
    "                            \n"
   ]
  },
  {
   "cell_type": "code",
   "execution_count": null,
   "metadata": {},
   "outputs": [],
   "source": []
  },
  {
   "cell_type": "code",
   "execution_count": 273,
   "metadata": {},
   "outputs": [
    {
     "name": "stderr",
     "output_type": "stream",
     "text": [
      "\u001b[32m2021-06-01 17:00:41\u001b[0m \u001b[35mDESKTOP-LKA1KPD\u001b[0m \u001b[34mscholarly[3696]\u001b[0m \u001b[1;30mINFO\u001b[0m Getting https://scholar.google.com/scholar?hl=en&q=Haba%2CPhytochem.%2C68%2C82007%29%2C1255&as_vis=0&as_sdt=0,33\n",
      "\u001b[32m2021-06-01 17:00:43\u001b[0m \u001b[35mDESKTOP-LKA1KPD\u001b[0m \u001b[34mscholarly[3696]\u001b[0m \u001b[1;30mINFO\u001b[0m Session proxy config is {}\n"
     ]
    }
   ],
   "source": [
    "importlib.reload(cn)\n",
    "\n",
    "problematic_str = 'Haba,Phytochem.,68,82007),1255'\n",
    "ref_dict = cn.get_structured_reference(problematic_str)"
   ]
  },
  {
   "cell_type": "code",
   "execution_count": 274,
   "metadata": {},
   "outputs": [
    {
     "data": {
      "text/plain": [
       "False"
      ]
     },
     "execution_count": 274,
     "metadata": {},
     "output_type": "execute_result"
    }
   ],
   "source": [
    "ref_dict"
   ]
  }
 ],
 "metadata": {
  "kernelspec": {
   "display_name": "base",
   "language": "python",
   "name": "base"
  },
  "language_info": {
   "codemirror_mode": {
    "name": "ipython",
    "version": 3
   },
   "file_extension": ".py",
   "mimetype": "text/x-python",
   "name": "python",
   "nbconvert_exporter": "python",
   "pygments_lexer": "ipython3",
   "version": "3.8.5"
  }
 },
 "nbformat": 4,
 "nbformat_minor": 4
}
